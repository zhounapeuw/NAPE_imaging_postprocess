{
 "cells": [
  {
   "cell_type": "code",
   "execution_count": 1,
   "metadata": {},
   "outputs": [
    {
     "ename": "ImportError",
     "evalue": "cannot import name 'EventTicksProcessor' from 'visualizer.data' (unknown location)",
     "output_type": "error",
     "traceback": [
      "\u001b[1;31m---------------------------------------------------------------------------\u001b[0m",
      "\u001b[1;31mImportError\u001b[0m                               Traceback (most recent call last)",
      "Cell \u001b[1;32mIn[1], line 1\u001b[0m\n\u001b[1;32m----> 1\u001b[0m \u001b[39mfrom\u001b[39;00m \u001b[39mvisualizer\u001b[39;00m\u001b[39m.\u001b[39;00m\u001b[39mdata\u001b[39;00m \u001b[39mimport\u001b[39;00m EventTicksProcessor\n\u001b[0;32m      2\u001b[0m \u001b[39mfrom\u001b[39;00m \u001b[39mvisualizer\u001b[39;00m\u001b[39m.\u001b[39;00m\u001b[39mplots\u001b[39;00m \u001b[39mimport\u001b[39;00m EventTicksPlot\n\u001b[0;32m      3\u001b[0m \u001b[39mimport\u001b[39;00m \u001b[39mos\u001b[39;00m\n",
      "\u001b[1;31mImportError\u001b[0m: cannot import name 'EventTicksProcessor' from 'visualizer.data' (unknown location)"
     ]
    }
   ],
   "source": [
    "from visualizer.data import EventTicksProcessor\n",
    "from visualizer.plots import EventTicksPlot\n",
    "import os\n",
    "\n",
    "#fparams\n",
    "fname_signal = 'VJ_OFCVTA_7_260_D6_neuropil_corrected_signals_15_50_beta_0.8.csv'\n",
    "fname_events = 'event_times_VJ_OFCVTA_7_260_D6_trained.csv'\n",
    "fs = 5\n",
    "opto_blank_frame = True\n",
    "num_rois = 10\n",
    "selected_conditions = None\n",
    "flag_normalization = 'dff_perc'\n",
    "fdir = os.path.abspath('./sample_data/VJ_OFCVTA_7_260_D6') \n",
    "fname = os.path.split(fdir)[1]\n",
    "\n",
    "#reading data from local files\n",
    "signals_content = os.path.join(fdir, fname_signal)\n",
    "fname_events_content = os.path.join(fdir, fname_events)\n",
    "estimmed_frames = os.path.join(fdir, \"{}*_stimmed_frames.pkl\".format(fname))\n",
    "\n",
    "#main method\n",
    "def main():\n",
    "    data_processor = EventTicksProcessor(fname_signal, fname_events, fs, opto_blank_frame, num_rois, selected_conditions, flag_normalization)\n",
    "    data_processor.load_all_data(signals_content, fname_events_content, estimmed_frames)\n",
    "\n",
    "    data_plotter = EventTicksPlot(data_processor)\n",
    "    fig = data_plotter.generate_session_plot()\n",
    "\n",
    "    fig.show()\n",
    "\n",
    "if __name__ == \"__main__\":\n",
    "    main()"
   ]
  }
 ],
 "metadata": {
  "kernelspec": {
   "display_name": "testsima",
   "language": "python",
   "name": "python3"
  },
  "language_info": {
   "codemirror_mode": {
    "name": "ipython",
    "version": 3
   },
   "file_extension": ".py",
   "mimetype": "text/x-python",
   "name": "python",
   "nbconvert_exporter": "python",
   "pygments_lexer": "ipython3",
   "version": "3.11.4"
  },
  "orig_nbformat": 4
 },
 "nbformat": 4,
 "nbformat_minor": 2
}
