{
 "cells": [
  {
   "cell_type": "code",
   "execution_count": 1,
   "metadata": {},
   "outputs": [
    {
     "ename": "ImportError",
     "evalue": "cannot import name 'plots' from 'visualizer' (c:\\Users\\Eesha\\Documents\\GitHub\\testsima\\Lib\\site-packages\\visualizer\\__init__.py)",
     "output_type": "error",
     "traceback": [
      "\u001b[1;31m---------------------------------------------------------------------------\u001b[0m",
      "\u001b[1;31mImportError\u001b[0m                               Traceback (most recent call last)",
      "Cell \u001b[1;32mIn[1], line 1\u001b[0m\n\u001b[1;32m----> 1\u001b[0m \u001b[39mfrom\u001b[39;00m \u001b[39mvisualizer\u001b[39;00m \u001b[39mimport\u001b[39;00m data, plots\n\u001b[0;32m      2\u001b[0m \u001b[39mimport\u001b[39;00m \u001b[39mos\u001b[39;00m\n\u001b[0;32m      4\u001b[0m \u001b[39m#fparams\u001b[39;00m\n",
      "\u001b[1;31mImportError\u001b[0m: cannot import name 'plots' from 'visualizer' (c:\\Users\\Eesha\\Documents\\GitHub\\testsima\\Lib\\site-packages\\visualizer\\__init__.py)"
     ]
    }
   ],
   "source": [
    "from visualizer.data import S2PActivityProcessor\n",
    "from visualizer.plots import S2PActivityPlot\n",
    "import os\n",
    "\n",
    "#fparams\n",
    "tseries_start_end = [0, 10]\n",
    "show_labels = True\n",
    "color_all_rois = True\n",
    "rois_to_plot = None\n",
    "\n",
    "fdir = os.path.abspath('./sample_data/VJ_OFCVTA_7_260_D6_snippit')\n",
    "output_fig_dir = os.path.join(fdir, 's2p_analysis')\n",
    "s2p_dir = os.path.join(fdir, 'suite2p', 'plane0')\n",
    "\n",
    "#reading data from local files\n",
    "f_contents = os.path.join(s2p_dir, 'F.npy')\n",
    "fneu_contents = os.path.join(s2p_dir, 'Fneu.npy')\n",
    "iscell_contents = os.path.join(s2p_dir, 'iscell.npy')\n",
    "ops_contents = os.path.join(s2p_dir, 'ops.npy')\n",
    "stat_contents = os.path.join(s2p_dir, 'stat.npy')\n",
    "\n",
    "#main method\n",
    "def main():\n",
    "    data_processor = S2PActivityProcessor(fdir, tseries_start_end, show_labels, color_all_rois, rois_to_plot, output_fig_dir)\n",
    "    data_processor.setup_roi_data(f_contents, fneu_contents, iscell_contents, ops_contents, stat_contents)\n",
    "\n",
    "    data_plotter = S2PActivityPlot(data_processor)\n",
    "    fig1 = data_plotter.generate_contour_plot(package=\"matplotlib\")\n",
    "    fig1.show()\n",
    "    fig2 = data_plotter.generate_time_series_plot(package=\"matplotlib\")\n",
    "    fig2.show()\n",
    "    fig3 = data_plotter.generate_heatmap_plot(package=\"matplotlib\")\n",
    "    fig3.show()\n",
    "\n",
    "if __name__ == \"__main__\":\n",
    "    main()"
   ]
  }
 ],
 "metadata": {
  "kernelspec": {
   "display_name": "testsima",
   "language": "python",
   "name": "python3"
  },
  "language_info": {
   "codemirror_mode": {
    "name": "ipython",
    "version": 3
   },
   "file_extension": ".py",
   "mimetype": "text/x-python",
   "name": "python",
   "nbconvert_exporter": "python",
   "pygments_lexer": "ipython3",
   "version": "3.11.4"
  },
  "orig_nbformat": 4
 },
 "nbformat": 4,
 "nbformat_minor": 2
}
