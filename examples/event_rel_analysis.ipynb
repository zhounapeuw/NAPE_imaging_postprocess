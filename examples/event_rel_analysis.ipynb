{
 "cells": [
  {
   "cell_type": "code",
   "execution_count": null,
   "metadata": {},
   "outputs": [],
   "source": [
    "from visualizer.data import EventAnalysisProcessor\n",
    "from visualizer.plots import EventAnalysisPlot\n",
    "import os\n",
    "\n",
    "data_processor = EventAnalysisProcessor()\n",
    "data_processor.load_data(\"data_file1.csv\", condition=\"Condition1\")\n",
    "data_processor.load_data(\"data_file2.csv\", condition=\"Condition2\")\n",
    "data_processor.preprocess_data()\n",
    "\n",
    "visualization = EventAnalysisPlot(data_processor)\n",
    "roi_idx = 0\n",
    "visualization.plot_raw_trace(roi_idx)\n",
    "\n",
    "# Plot trial-averaged heatmap for the data key \"normalized_data\"\n",
    "data_key = \"normalized_data\"\n",
    "visualization.plot_trial_avg_heatmap(data_key)\n",
    "\n",
    "# Plot trial-averaged trace for ROI 1\n",
    "roi_idx = 1\n",
    "visualization.plot_roi_trial_avg_trace(roi_idx)\n",
    "\n",
    "# Plot time-averaged bar plot for ROI 2\n",
    "roi_idx = 2\n",
    "visualization.plot_roi_trial_time_avg_bar(roi_idx, sort_method='peak_time', time_window=(2, 6))\n",
    "\n",
    "# Plot trial-averaged traces for multiple ROIs\n",
    "roi_indices = [3, 4, 5]\n",
    "visualization.plot_multi_roi_trial_avg_trace(roi_indices)\n",
    "\n",
    "# Plot time-averaged bar plot for multiple ROIs\n",
    "roi_indices = [6, 7, 8]\n",
    "visualization.plot_multi_roi_trial_time_avg_bar(roi_indices, sort_method='max_value', time_window=(3, 8))"
   ]
  }
 ],
 "metadata": {
  "language_info": {
   "name": "python"
  },
  "orig_nbformat": 4
 },
 "nbformat": 4,
 "nbformat_minor": 2
}
