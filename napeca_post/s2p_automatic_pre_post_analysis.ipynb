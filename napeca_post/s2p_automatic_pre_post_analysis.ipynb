{
 "cells": [
  {
   "cell_type": "markdown",
   "id": "c5cb6ed9",
   "metadata": {},
   "source": [
    "# NAPE Automatic Suite2p Integrated Pre/Post Processing Pipeline\n",
    "\n",
    "## Overview of Script\n",
    "The following jupyter notebook takes the raw image file from the two-photon microscope and proceeds to apply motion correction, neuropil correction, and roi selection. A folder with the necessary graphs and data from these analyses will be created in the same folder in which the raw data resides. The advantage of this script is that is parses through mutliple sets of parameters leaving the user to decide which one is best after the script has run. It is expected for the user to select the output they believe performed the best based on the provided visualization and then continue with the post-processing pipeline through the other scripts. \n",
    "\n",
    "## How to Run\n",
    "There is a single code block marked as USER VARIABLES in this jupyter notebook into which the user should put the information requested. Then, simply run all of the cells in order and decide which of the output figures performed the best.\n",
    "\n",
    "## Required Files\n",
    "The only file required for this script is a .tiff or .h5 file of a two-photon recording session"
   ]
  },
  {
   "cell_type": "code",
   "execution_count": null,
   "id": "9bec541e",
   "metadata": {},
   "outputs": [],
   "source": [
    "%pip install suite2p"
   ]
  },
  {
   "cell_type": "code",
   "execution_count": null,
   "id": "23558847-7b9a-46ff-9860-e7db527f19e6",
   "metadata": {},
   "outputs": [],
   "source": [
    "import os\n",
    "from pathlib import Path\n",
    "import matplotlib.pyplot as plt\n",
    "import numpy as np\n",
    "\n",
    "import s2p_vis_func\n",
    "import s2p_plot_rois_activity_funcs\n",
    "\n",
    "import suite2p"
   ]
  },
  {
   "cell_type": "markdown",
   "id": "16f315bb",
   "metadata": {},
   "source": [
    "# User Variables\n",
    "Please input the required variables below\n",
    "\n",
    "threshold_scaling: string\n",
    "\n",
    "    Suite2p pre-processing parameter that determines the threshold for what the algorithm considers to be an ROI. You can input as many values as you like into the list and the program will output the visualizations for all of them. We recommend values from around 0.4 to 2.0. The higher the number, the higher the threshold for what is considered an ROI and thus, less ROI's will be detected\n",
    "\n",
    "fname: string\n",
    "\n",
    "    The file name of the data you wish to process. Please remember to place it inside quotes as shown below\n",
    "\n",
    "fdir: string\n",
    "    \n",
    "    The name of the path, or directory, of the data file you wish to process. IMPORTANT: keep the r before the quotes and leave off the last backslash\n",
    "\n",
    "tseries_start_end: list\n",
    "\n",
    "    The timescale you wish to see for the visualization of the ROI traces. If you type None in the brackets the whole session will be processed\n",
    "\n",
    "rois_to_plot: integer or list\n",
    "\n",
    "    Can either be an integer with the number of ROI's you wish to see plotted, a list with the specific ROI numbers, or if you type None all of the ROI's will be shown\n",
    "\n",
    "h5: boolean\n",
    "\n",
    "    Indicates whether or not the raw data files are of type h5. If they are, please indicate this variable as True and type the h5 key "
   ]
  },
  {
   "cell_type": "code",
   "execution_count": null,
   "id": "0e94ab3e",
   "metadata": {},
   "outputs": [],
   "source": [
    "fname = 'VJ_OFCVTA_7_260_D6_snippit_sima_mc'\n",
    "fdir =  os.path.abspath('./sample_data/VJ_OFCVTA_7_260_D6_snippit')\n",
    "tseries_start_end = [0, 10]\n",
    "rois_to_plot = None\n",
    "h5 = True\n",
    "\n",
    "ops = suite2p.default_ops() # loads default suite2p parameters\n",
    "ops['fs'] = 13 # sampling rate of recording, determines binning for cell detection\n",
    "ops['tau'] = 1.25 # timescale of gcamp to use for deconvolution\n",
    "ops['threshold_scaling'] =  [0.4, 0.6] # set however many desired threshold_scaling values you wish to test\n",
    "ops['reg_tif'] = True # indicates whether you want a .tiff file of the motion corrected data\n",
    "\n",
    "#If running h5 files\n",
    "if h5 == True:\n",
    "    ops['h5py_key'] = 'imaging' # tells the program the h5 key\n",
    "    ops['h5py'] = fdir"
   ]
  },
  {
   "cell_type": "code",
   "execution_count": null,
   "id": "0c94e543-f6da-44a1-8cf9-20ce27b61372",
   "metadata": {},
   "outputs": [],
   "source": [
    "#setting font and other templates\n",
    "import matplotlib as mpl\n",
    "mpl.rcParams.update({\n",
    "    'axes.spines.left': True,\n",
    "    'axes.spines.bottom': True,\n",
    "    'axes.spines.top': False,\n",
    "    'axes.spines.right': False,\n",
    "    'legend.frameon': False,\n",
    "    'figure.subplot.wspace': .01,\n",
    "    'figure.subplot.hspace': .01,\n",
    "    'figure.figsize': (18, 13),\n",
    "    'ytick.major.left': True,\n",
    "})\n",
    "jet = mpl.cm.get_cmap('jet')\n",
    "jet.set_bad(color='k')"
   ]
  },
  {
   "cell_type": "code",
   "execution_count": null,
   "id": "52b7bc70-eb71-45e7-b82d-f570979b69c7",
   "metadata": {},
   "outputs": [],
   "source": [
    "db = {\n",
    "    'data_path': [fdir],\n",
    "}\n",
    "print(db)"
   ]
  },
  {
   "cell_type": "code",
   "execution_count": null,
   "id": "c7a07c5e-d745-4e1a-8d80-2cff54c046fc",
   "metadata": {},
   "outputs": [],
   "source": [
    "output_ops={}\n",
    "base_dir =  db['data_path'][0]\n",
    "for threshold_scaling_value in ops['threshold_scaling']:\n",
    "    ops['threshold_scaling'] = threshold_scaling_value\n",
    "    \n",
    "    #deals with creating and saving outputs into correct folders\n",
    "    output_ops['save_path'] = os.path.join(base_dir, f'{fname}_{threshold_scaling_value}')\n",
    "    ops['save_path0'] = base_dir\n",
    "    ops['save_folder'] = f'{fname}_{threshold_scaling_value}'\n",
    "    \n",
    "    #actually runs the suite2p processing\n",
    "    output_ops = suite2p.run_s2p(ops=ops, db=db)\n",
    "\n",
    "    #functions that output the Registration visualizations(only outputs once)\n",
    "    output_fig_dir = os.path.join(base_dir, 's2p_analysis')\n",
    "    if not os.path.exists(output_fig_dir):\n",
    "        s2p_vis_func.check_exist_dir(output_fig_dir)\n",
    "        s2p_vis_func.reg_ref_imgs(output_ops, output_fig_dir)\n",
    "        s2p_vis_func.reg_displacement_vis(output_ops, output_fig_dir)\n",
    "    \n",
    "    #functions that output the ROI detections visualizations\n",
    "    s2p_vis_func.roi_mask_vis(output_ops, output_fig_dir, threshold_scaling_value)\n",
    "    s2p_vis_func.roi_trace_vis(output_ops, output_fig_dir, threshold_scaling_value)\n",
    "\n",
    "    #functions that output the post-processed roi_plots based on the desired number of ROI's\n",
    "    path_dict = {}\n",
    "    path_dict['threshold_scaling_value'] = threshold_scaling_value\n",
    "    path_dict['s2p_dir'] = os.path.join(fdir, f'{fname}_{threshold_scaling_value}', 'plane0')\n",
    "    path_dict = s2p_plot_rois_activity_funcs.define_paths_roi_plots(path_dict, tseries_start_end, rois_to_plot, output_fig_dir)\n",
    "    s2p_data_dict = s2p_plot_rois_activity_funcs.load_s2p_data_roi_plots(path_dict)\n",
    "    plot_vars = s2p_plot_rois_activity_funcs.plotting_rois(s2p_data_dict, path_dict)\n",
    "    s2p_plot_rois_activity_funcs.masks_init(plot_vars, s2p_data_dict)\n",
    "    s2p_plot_rois_activity_funcs.contour_plot(s2p_data_dict, path_dict, plot_vars)\n",
    "    s2p_plot_rois_activity_funcs.time_series_plot(s2p_data_dict, path_dict, plot_vars)"
   ]
  }
 ],
 "metadata": {
  "interpreter": {
   "hash": "29f2007cb673592858fd6523f43b39cf3f3163925deee452a0b41f2064912f2a"
  },
  "kernelspec": {
   "display_name": "Python 3.7.12 ('napeca_post')",
   "language": "python",
   "name": "python3"
  },
  "language_info": {
   "codemirror_mode": {
    "name": "ipython",
    "version": 3
   },
   "file_extension": ".py",
   "mimetype": "text/x-python",
   "name": "python",
   "nbconvert_exporter": "python",
   "pygments_lexer": "ipython3",
   "version": "3.7.12"
  }
 },
 "nbformat": 4,
 "nbformat_minor": 5
}
