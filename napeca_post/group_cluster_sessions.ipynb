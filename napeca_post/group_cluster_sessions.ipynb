{
 "cells": [
  {
   "cell_type": "markdown",
   "metadata": {},
   "source": [
    "Concatenates the population trial-averaged data created by the event_rel_analysis script across ROIs to enable group level cluster analysis"
   ]
  },
  {
   "cell_type": "code",
   "execution_count": null,
   "metadata": {},
   "outputs": [],
   "source": [
    "import pickle\n",
    "import os\n",
    "import glob\n",
    "import numpy as np\n",
    "import utils\n",
    "import h5py"
   ]
  },
  {
   "cell_type": "code",
   "execution_count": null,
   "metadata": {},
   "outputs": [],
   "source": [
    "def define_params(method = 'single'):\n",
    "    \n",
    "    fparams = {}\n",
    "    \n",
    "    if method == 'fdirs':\n",
    "        \n",
    "        fparams = {\n",
    "                # ONLY EDIT LINES BELOW THIS COMMENT\n",
    "                'fdirs':  [r'D:\\olympus_data\\Vijay data\\VJ_OFCVTA_7_D8_trained',\n",
    "                          r'D:\\olympus_data\\Vijay data\\VJ_OFCVTA_8_D15_trained'], #\n",
    "              \n",
    "                'save_dir': r'D:\\olympus_data\\Vijay data\\group_level'\n",
    "\n",
    "            }\n",
    "        \n",
    "    \n",
    "    elif method == 'csv':\n",
    "        \n",
    "        # easier to load the csv to dataframe then convert to dict\n",
    "        fparams=pd.read_csv('files_to_analyze_prepreprocess.csv').to_dict('record') \n",
    "        \n",
    "        # lists get loaded in as strings, so these are the keys that contain strings that need to be executed to form lists\n",
    "        eval_keys = ['analog_names', 'trial_condition_list', 'behav_id_of_interest', 'number_frames']\n",
    "        for idx, fparam in enumerate(fparams):\n",
    "            for eval_key in eval_keys:\n",
    "                if eval_key in fparam and isinstance(fparam[eval_key], str) :\n",
    "                    fparam[eval_key] = eval(fparam[eval_key])\n",
    "            fparams[idx] = fparam\n",
    "    \n",
    "    elif method == 'root_dir':\n",
    "        \n",
    "        pass\n",
    "    \n",
    "    return fparams\n",
    "\n",
    "# USER CAN EDIT LINE BELOW THIS COMMENT TO CHANGE SESSION DEFINING METHOD\n",
    "fparams = define_params(method = 'fdirs') # options are 'single', 'f2a', 'root_dir', 'csv'"
   ]
  },
  {
   "cell_type": "code",
   "execution_count": null,
   "metadata": {},
   "outputs": [],
   "source": [
    "for idx, fdir in enumerate(fparams['fdirs']):\n",
    "    fname = os.path.split(fdir)[1]\n",
    "    fpath = os.path.join(fdir, 'event_rel_analysis', 'cluster_pop_data.npy')\n",
    "    if idx == 0:\n",
    "        group_data = np.load(fpath)\n",
    "    else:\n",
    "        group_data = np.concatenate((group_data,np.load(fpath)),axis=0)"
   ]
  },
  {
   "cell_type": "code",
   "execution_count": null,
   "metadata": {},
   "outputs": [],
   "source": [
    "np.save(os.path.join(fparams['save_dir'], 'cluster_group_data.npy'), group_data)"
   ]
  },
  {
   "cell_type": "code",
   "execution_count": null,
   "metadata": {},
   "outputs": [],
   "source": []
  }
 ],
 "metadata": {
  "kernelspec": {
   "display_name": "Python 3 (ipykernel)",
   "language": "python",
   "name": "python3"
  },
  "language_info": {
   "codemirror_mode": {
    "name": "ipython",
    "version": 3
   },
   "file_extension": ".py",
   "mimetype": "text/x-python",
   "name": "python",
   "nbconvert_exporter": "python",
   "pygments_lexer": "ipython3",
   "version": "3.7.12"
  }
 },
 "nbformat": 4,
 "nbformat_minor": 2
}
