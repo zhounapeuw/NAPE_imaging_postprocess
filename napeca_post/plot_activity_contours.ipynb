{
 "cells": [
  {
   "cell_type": "markdown",
   "metadata": {},
   "source": [
    "### Required Prerequisite/Input Files\n",
    "\n",
    "All data should reside in a parent folder. This folder's name should be the name of the session and ideally be the same as the base name of the recording file.\n",
    "\n",
    "1. ROI/source activity signals file ( `fparams['fname_signal']` ): This is either a npy or CSV file where rows are individual ROIs/sources and columns are samples, and the values are activity levels (ie. fluorescence or voltage for ephys). Note the CSV should not \n",
    "2. Event occurrence file (`fparams['fname_events']` ): This is either a pickle file or a CSV file. For the pickle file, it should contain a python dictionary where keys are event condition names and associated values are lists that contain event occurrence times (in samples). If using a CSV, the data should be in tidy format formated like what is shown here (note currently the first row, first and second columns should be \"event\" and \"sample\" respectively: https://github.com/zhounapeuw/NAPE_imaging_postprocess/raw/main/docs/_images/napeca_post_event_csv_format.png\n",
    "3. Projection image of imaging data\n",
    "\n"
   ]
  },
  {
   "cell_type": "code",
   "execution_count": null,
   "metadata": {},
   "outputs": [],
   "source": [
    "import os\n",
    "import numpy as np\n",
    "import math\n",
    "import h5py\n",
    "import pandas as pd\n",
    "import pickle\n",
    "from random import randrange\n",
    "from PIL import Image\n",
    "\n",
    "import utils\n",
    "\n",
    "import matplotlib.lines as mlines\n",
    "import matplotlib.pyplot as plt\n",
    "import matplotlib as mpl\n",
    "import matplotlib.patheffects as PathEffects\n",
    "import matplotlib.colors as mcolors\n",
    "plt.rcParams['text.usetex'] = False\n",
    "# plt.rcParams['text.latex.unicode'] = False\n",
    "import matplotlib\n",
    "# important for text to be detecting when importing saved figures into illustrator\n",
    "matplotlib.rcParams['pdf.fonttype'] = 42\n",
    "matplotlib.rcParams['ps.fonttype'] = 42\n",
    "plt.rcParams[\"font.family\"] = \"Arial\"\n",
    "# print(data_dict)"
   ]
  },
  {
   "cell_type": "code",
   "execution_count": null,
   "metadata": {},
   "outputs": [],
   "source": [
    "# important arguments\n",
    "fname_signal = 'VJ_OFCVTA_7_260_D6_neuropil_corrected_signals_15_50_beta_0.8.npy'   # name of your npy or csv file that contains activity signals\n",
    "fname_events = 'event_times_VJ_OFCVTA_7_260_D6_trained.csv' # name of your pickle or csv file that contains behavioral event times (in seconds)\n",
    "fdir = os.path.abspath(\"../napeca_post/sample_data/VJ_OFCVTA_7_260_D6\") # for an explicit path, eg. r'C:\\2pData\\Vijay data\\VJ_OFCVTA_7_D8_trained'\n",
    "fdir = r'C:\\2pData\\Vijay data\\VJ_OFCVTA_7_D8_trained' \n",
    "fname = 'VJ_OFCVTA_7_260_D6'\n",
    "\n",
    "analysis_win = [0, None]\n",
    "raw_npilCorr = 1 # 0 for raw vs 1 neuropil corrected signal\n",
    "fs = 5\n",
    "\n",
    "rois_to_include = None # [i for i in range(30)] #CZ remove hardcode\n",
    "\n",
    "selected_conditions = ['minus', 'plus'] # set to a list of strings if you want to filter specific conditions to analyze"
   ]
  },
  {
   "cell_type": "code",
   "execution_count": null,
   "metadata": {},
   "outputs": [],
   "source": [
    "# initialize meta variables\n",
    "proj_img_dir = os.path.join(fdir, f'{fname}_output_images')\n",
    "sima_h5_path = os.path.join(fdir, f'{fname}_sima_mc.h5')\n",
    "s2p_dir = os.path.join(fdir, 'suite2p')\n",
    "\n",
    "fig_save_dir = os.path.join(fdir, 'figs')\n",
    "if not os.path.exists(fig_save_dir):\n",
    "    os.mkdir(fig_save_dir)"
   ]
  },
  {
   "cell_type": "markdown",
   "metadata": {},
   "source": [
    "# SIMA "
   ]
  },
  {
   "cell_type": "code",
   "execution_count": null,
   "metadata": {},
   "outputs": [],
   "source": [
    "if os.path.exists(proj_img_dir):\n",
    "    proj_manual = {}\n",
    "    proj_manual['mean_img'] = np.array(Image.open(os.path.join(proj_img_dir, 'mean_img.tif')))\n",
    "\n",
    "    manual_data_dims = proj_manual[f'mean_img'].shape\n",
    "elif os.path.exists(sima_h5_path):\n",
    "    # load video data\n",
    "    # open h5 to read, find data key, grab data, then close\n",
    "    h5 = h5py.File(sima_h5_path,'r')\n",
    "    sima_data = np.squeeze(np.array( h5[list(h5.keys())[0]] )).astype('int16') # np.array loads all data into memory\n",
    "    h5.close()\n",
    "\n",
    "    proj_manual = {'mean_img': np.mean(sima_data, axis = 0), \n",
    "                   'max_img': np.max(sima_data, axis = 0), \n",
    "                   'std_img': np.std(sima_data, axis = 0) }\n",
    "elif os.path.exists(s2p_dir):\n",
    "    s2p_ops_path = os.path.join(s2p_dir, 'ops.npy')\n",
    "    s2p_data['ops'] = np.load(s2p_ops_path, allow_pickle=True).item()\n",
    "    to_plot = s2p_data['ops']['meanImg']"
   ]
  },
  {
   "cell_type": "code",
   "execution_count": null,
   "metadata": {},
   "outputs": [],
   "source": [
    "# load video data\n",
    "# open h5 to read, find data key, grab data, then close\n",
    "h5 = h5py.File(sima_h5_path,'r')\n",
    "sima_data = np.squeeze(np.array( h5[list(h5.keys())[0]] )).astype('int16') # np.array loads all data into memory\n",
    "h5.close()"
   ]
  },
  {
   "cell_type": "code",
   "execution_count": null,
   "metadata": {},
   "outputs": [],
   "source": [
    "manual_data_dims = sima_data.shape"
   ]
  },
  {
   "cell_type": "code",
   "execution_count": null,
   "metadata": {},
   "outputs": [],
   "source": [
    "# grab ROI masks from sima (these are probably manually drawn ROIs from imagej)\n",
    "sima_mask_path = os.path.join(fdir, fname+'_sima_masks.npy')\n",
    "\n",
    "sima_masks = np.load(sima_mask_path)\n",
    "numROI_sima = sima_masks.shape[0]\n",
    "if not rois_to_include:\n",
    "    rois_to_include = np.arange(numROI_sima)\n",
    "num_rois_to_include = len(rois_to_include)"
   ]
  },
  {
   "cell_type": "code",
   "execution_count": null,
   "metadata": {},
   "outputs": [],
   "source": [
    "# define number of ROIs to visualize and make colormap for contours\n",
    "colors_roi = plt.cm.viridis(np.linspace(0,numROI_sima/6,numROI_sima))"
   ]
  },
  {
   "cell_type": "code",
   "execution_count": null,
   "metadata": {
    "scrolled": true
   },
   "outputs": [],
   "source": [
    "# make binary array of roi pixels for contour plotting\n",
    "zero_template_manual = np.zeros([manual_data_dims[1], manual_data_dims[2]])\n",
    "roi_label_loc_manual = []\n",
    "roi_signal_sima = np.empty([numROI_sima, sima_data.shape[0]])\n",
    "\n",
    " \n",
    "for iROI in rois_to_include:\n",
    "    \n",
    "    # make binary map of ROI pixels\n",
    "    ypix_roi, xpix_roi = np.where(sima_masks[iROI,:,:] == 1)\n",
    "    \n",
    "    if ypix_roi.size == 0:\n",
    "\n",
    "        roi_label_loc_manual.append( [0, 0] )\n",
    "        \n",
    "    else:\n",
    "        zero_template_manual[ ypix_roi, xpix_roi ] = 1*(iROI+2)\n",
    "\n",
    "        roi_label_loc_manual.append( [np.min(ypix_roi), np.min(xpix_roi)] )\n",
    "\n",
    "        if raw_npilCorr == 0:\n",
    "            # not npil corr signal\n",
    "            roi_signal_sima[iROI,:] = np.mean(sima_data[:, ypix_roi, xpix_roi  ], axis = 1)\n",
    "            roi_signal_sima.shape"
   ]
  },
  {
   "cell_type": "code",
   "execution_count": null,
   "metadata": {},
   "outputs": [],
   "source": [
    "# load t-series data\n",
    "if raw_npilCorr == 1:\n",
    "    roi_signal_sima = np.load(os.path.join(fdir, fname+'_neuropil_corrected_signals_15_50_beta_0.8.npy'))\n",
    "    print(roi_signal_sima.shape)\n",
    "else:\n",
    "    roi_signal_sima = np.empty([numROI_sima, sima_data.shape[0]])"
   ]
  },
  {
   "cell_type": "code",
   "execution_count": null,
   "metadata": {},
   "outputs": [],
   "source": [
    "# initialize variables for plotting time-series\n",
    "num_samps = roi_signal_sima.shape[-1]\n",
    "total_time = num_samps/fs \n",
    "tvec = np.linspace(0,total_time,num_samps)"
   ]
  },
  {
   "cell_type": "code",
   "execution_count": null,
   "metadata": {},
   "outputs": [],
   "source": [
    "# CZ better document what you are doing here; duplicate of similar block below??\n",
    "neg_color_names = ['Blues', 'Purples', 'YlGnBu', 'PuBu', 'GnBu']\n",
    "pos_color_names = ['Oranges', 'Reds', 'YlOrRd', 'YlOrBr', 'OrRd']\n",
    "neg_colors = []\n",
    "pos_colors = []\n",
    "for i in range(0, len(neg_color_names)):   # CZ disambiguate i and j; don't use range\n",
    "    cmap = matplotlib.cm.get_cmap(neg_color_names[i])\n",
    "    colors = []\n",
    "    for j in range(cmap.N):\n",
    "        rgba = cmap(j)\n",
    "        colors.append(matplotlib.colors.rgb2hex(rgba))\n",
    "    neg_colors.append(colors)\n",
    "        \n",
    "    cmap2 = matplotlib.cm.get_cmap(pos_color_names[i])\n",
    "    colors2 = []\n",
    "    for j in range(cmap2.N):\n",
    "        rgba = cmap2(j)\n",
    "        colors2.append(matplotlib.colors.rgb2hex(rgba)) \n",
    "    pos_colors.append(colors2)"
   ]
  },
  {
   "cell_type": "code",
   "execution_count": null,
   "metadata": {
    "scrolled": true
   },
   "outputs": [],
   "source": [
    "roi_signals = np.load(os.path.join(fdir, fname+'_neuropil_corrected_signals_15_50_beta_0.8.npy'))\n",
    "vector = np.zeros(len(rois_to_include) + 1, dtype=float)\n",
    "\n",
    "for iROI, counter in enumerate(rois_to_include):\n",
    "    avg_val = np.mean(roi_signals[iROI:,])\n",
    "    baseline = np.max(roi_signals[iROI:,])\n",
    "    vector[counter] = (avg_val - np.min(roi_signals[iROI,:])) / baseline * 100\n",
    "orig_vector = roi_signals[iROI:,]\n"
   ]
  },
  {
   "cell_type": "code",
   "execution_count": null,
   "metadata": {},
   "outputs": [],
   "source": [
    "fig, ax = plt.subplots(1, 1, figsize = (10,10))\n",
    "climits = [np.min(proj_manual['mean_img']), np.max(proj_manual['mean_img'])]\n",
    "img = ax.imshow(proj_manual['mean_img'], cmap = 'gray', vmin = climits[0]*1, vmax = climits[1]*0.8)\n",
    "\n",
    "# CZ major bug!!! tseries for each roi does not correspond to the correct roi contour when rois_to_include is a subset\n",
    "for iroi in range(numROI_sima):\n",
    "    cm = plt.contour(sima_masks[iroi,:,:], colors='g')\n",
    "    plt.text(roi_label_loc_manual[iroi][1] - 5, roi_label_loc_manual[iroi][0] - 5,  int(iroi), fontsize=15, color = 'red')"
   ]
  },
  {
   "cell_type": "markdown",
   "metadata": {},
   "source": [
    "## Event-related Activity Contour plots"
   ]
  },
  {
   "cell_type": "code",
   "execution_count": null,
   "metadata": {},
   "outputs": [],
   "source": [
    "# Creating two lists of lists each of which are rgb values of the\n",
    "# corresponding color scheme; One for positive activity values and\n",
    "# the other one for the negative values;\n",
    "event_one = \"minus\"\n",
    "event_two = \"plus\"\n",
    "neg_color_names = ['Blues', 'Purples', 'YlGnBu', 'PuBu', 'GnBu']\n",
    "pos_color_names = ['Oranges', 'Greens', 'Reds', 'YlOrRd', 'OrRd']\n",
    "neg_colors = []\n",
    "pos_colors = []\n",
    "for i in range(len(neg_color_names)):    # CZ disambiguate i and j\n",
    "    cmap = matplotlib.cm.get_cmap(neg_color_names[i])\n",
    "    colors = []\n",
    "    # add the rgb values of a color scheme into the list\n",
    "    for j in range(cmap.N):\n",
    "        rgba = cmap(j)\n",
    "        colors.append(matplotlib.colors.rgb2hex(rgba))\n",
    "    neg_colors.append(colors)\n",
    "        \n",
    "    cmap2 = matplotlib.cm.get_cmap(pos_color_names[i])\n",
    "    colors2 = []\n",
    "    for j in range(cmap2.N):\n",
    "        rgba = cmap2(j)\n",
    "        colors2.append(matplotlib.colors.rgb2hex(rgba))\n",
    "    pos_colors.append(colors2)"
   ]
  },
  {
   "cell_type": "code",
   "execution_count": null,
   "metadata": {},
   "outputs": [],
   "source": [
    "# Loading in the pickle file that contains the dictionary which is\n",
    "# the data of activity values for different events\n",
    "pickle_path = os.path.join(fdir + '/event_rel_analysis/event_data_dict.pkl')\n",
    "data_dict = np.load(pickle_path, allow_pickle=True)\n",
    "tvec = np.linspace(-2, 8, data_dict[event_one]['num_samples']) # CZ will need to remove hardcode and pull from meta info later\n",
    "# CZ UPDATE EVENT-REL-ANALYSIS TO SAVE TVEC TO EVENT_DATA_DICT.PKL\n",
    "\n",
    "if analysis_win[-1] == None:\n",
    "    analysis_win[-1] = tvec[-1]\n",
    "    \n",
    "# set font size for yticks for the upcoming plots\n",
    "plt.rc('ytick',labelsize=12)"
   ]
  },
  {
   "cell_type": "code",
   "execution_count": null,
   "metadata": {
    "scrolled": false
   },
   "outputs": [],
   "source": [
    "\n",
    "\n",
    "data = np.random.rand(10,10)-0.5\n",
    "\n",
    "# sample the colormaps that you want to use. Use 128 from each so we get 256\n",
    "# colors in total\n",
    "colors1 = plt.cm.Purples(np.linspace(1, 0, 128))\n",
    "colors2 = plt.cm.Greens(np.linspace(0, 1, 128))\n",
    "\n",
    "# combine them and build a new colormap\n",
    "colors = np.vstack((colors1, colors2))\n",
    "mymap = mcolors.LinearSegmentedColormap.from_list('my_colormap', colors)\n",
    "\n",
    "plt.imshow(data, cmap=mymap)\n",
    "plt.colorbar()\n",
    "plt.show()\n",
    "\n",
    "#~~~~~~~~~~~~~~\n",
    "\n",
    "contour_vector = np.mean(data_dict[event_one]\n",
    "                                  ['zdata']\n",
    "                                  [:,:,\n",
    "                                   utils.get_tvec_sample(tvec, analysis_win[0]):utils.get_tvec_sample(tvec, analysis_win[-1])],\n",
    "                                  axis=(0,2)) \n",
    "\n",
    "# making a copy of the original data vector for coloring purposes\n",
    "orig_vector = np.copy(contour_vector)\n",
    "\n",
    "\n",
    "flattened_sima_mask = np.zeros_like(proj_manual['mean_img']).astype(np.float64)\n",
    "for mask_idx, mask in enumerate(sima_masks):\n",
    "    flattened_sima_mask += mask.astype(int) * contour_vector[mask_idx]\n",
    "\n",
    "# this all below could be placed into a separate function\n",
    "fig, ax = plt.subplots(1, 1, figsize = (10,10))\n",
    "climits = [np.min(proj_manual['mean_img']), np.max(proj_manual['mean_img'])]\n",
    "img = ax.imshow(proj_manual['mean_img'], cmap = 'gray', vmin = climits[0]*1, vmax = climits[1]*0.8)\n",
    "\n",
    "# plotting the contours and color them based on each cell's activity value\n",
    "color_spacing = np.linspace(-2,2,9, endpoint=True)\n",
    "cm = plt.contour(flattened_sima_mask, cmap=mymap)\n",
    "cmf = plt.contourf(flattened_sima_mask, color_spacing, cmap=mymap)\n",
    "\n",
    "cbar = plt.colorbar()\n",
    "cbar.set_label('Activity (Z-Score)', size = 25)\n",
    "\n",
    "for iroi in range(numROI_sima):\n",
    "\n",
    "    # add text that indicates each cell's activity value\n",
    "    txt = plt.text(roi_label_loc_manual[iroi][1] - 25, roi_label_loc_manual[iroi][0] +7,  \n",
    "             round(orig_vector[iroi], 2), \n",
    "             fontsize=10, \n",
    "             color = 'k')\n",
    "    txt.set_path_effects([PathEffects.withStroke(linewidth=1.5, foreground='gray')])\n",
    "\n",
    "\n"
   ]
  },
  {
   "cell_type": "code",
   "execution_count": null,
   "metadata": {},
   "outputs": [],
   "source": [
    "def plot_contour(data_dict, analysis_win, name, color_idx):\n",
    "    \"\"\"\n",
    "    A function that takes in a name of an event and a index of the color scheme list as\n",
    "    parameters and uses the corresponding color schemes to plot the event-based activity contour\n",
    "    plot using the data fetched from the previously loaded in pickle file\n",
    "    \"\"\"\n",
    "    # getting the data corresponding to the activity name from the dictionary\n",
    "    # CZ tvec needs to be an argument in plot_contour, also correct hardcoding of time selection\n",
    "    contour_vector = np.mean(data_dict[name]\n",
    "                                      ['zdata']\n",
    "                                      [:,:,\n",
    "                                       utils.get_tvec_sample(tvec, analysis_win[0]):utils.get_tvec_sample(tvec, analysis_win[-1])],\n",
    "                                      axis=(0,2)) \n",
    "    \n",
    "    # making a copy of the original data vector for coloring purposes\n",
    "    orig_vector = np.copy(contour_vector)\n",
    "\n",
    "\n",
    "    \n",
    "    # normalize the values in the vector so that the colors can be properly indexed\n",
    "    for i in rois_to_include:\n",
    "        contour_vector[i] = abs(contour_vector[i])\n",
    "        contour_vector[i] *= 125\n",
    "        if (contour_vector[i] >= 255):\n",
    "            contour_vector[i] = 255\n",
    "\n",
    "    # this all below could be placed into a separate function\n",
    "    fig, ax = plt.subplots(1, 1, figsize = (10,10))\n",
    "    climits = [np.min(std_img), np.max(std_img)]\n",
    "    img = ax.imshow(std_img, cmap = 'gray', vmin = climits[0]*1, vmax = climits[1]*0.8)\n",
    "\n",
    "    for iroi in range(numROI_sima):\n",
    "        \n",
    "        if orig_vector[iroi] > 0:\n",
    "            roi_color = pos_colors[color_idx][int(contour_vector[iroi])]\n",
    "        else:\n",
    "            roi_color = neg_colors[color_idx][int(contour_vector[iroi])]\n",
    "        \n",
    "        # plotting the contours and color them based on each cell's activity value\n",
    "        cm = plt.contour(sima_masks[iroi,:,:], \n",
    "                         colors=roi_color)\n",
    "        \n",
    "#         # add text that indicates each cell's activity value\n",
    "#         txt = plt.text(roi_label_loc_manual[iroi][1] - 25, roi_label_loc_manual[iroi][0] +5,  \n",
    "#                  round(orig_vector[iroi], 2), \n",
    "#                  fontsize=12, \n",
    "#                  color = pos_colors[color_idx][int(contour_vector[iroi])]\n",
    "#                          if orig_vector[iroi] > 0\n",
    "#                          else neg_colors[color_idx][int(contour_vector[iroi])])\n",
    "#         txt.set_path_effects([PathEffects.withStroke(linewidth=1.5, foreground='gray')])\n",
    "    \n",
    "\n",
    "        txt = plt.text(roi_label_loc_manual[iroi][1] - 5, roi_label_loc_manual[iroi][0] - 5,  int(iroi), fontsize=10, color = 'white')\n",
    "        txt.set_path_effects([PathEffects.withStroke(linewidth=1.5, foreground='k')])\n",
    "    \n",
    "    plt.title(\"Activity: \" + name, fontsize=15)\n",
    "    plt.axis('off')"
   ]
  },
  {
   "cell_type": "code",
   "execution_count": null,
   "metadata": {},
   "outputs": [],
   "source": [
    "# The main purpose of this function is for sanity check\n",
    "def plot_activity_subplots(data_dict, analysis_win, name, color_idx):\n",
    "    \"\"\"\n",
    "    A function that takes in a name of an event, and a color index as parameter and\n",
    "    plot each cell's change of activity corresponding to the specified event across a\n",
    "    certain time frame as subplots\n",
    "    \"\"\"\n",
    "    \n",
    "    trial_avg_data = np.mean(data_dict[name]['zdata'], axis=0)\n",
    "    \n",
    "    min_max = [np.min(trial_avg_data), np.max(trial_avg_data)]\n",
    "    \n",
    "    # CZ these next two lines are the same as in the previous function\n",
    "    # getting the data corresponding to the activity name from the dictionary\n",
    "    contour_vector = np.mean(data_dict[name]['zdata']\n",
    "                                      [:,:,\n",
    "                                       utils.get_tvec_sample(tvec, analysis_win[0]):utils.get_tvec_sample(tvec, analysis_win[-1])],\n",
    "                                      axis=(0,2))\n",
    "    # making a copy of the original data vector for coloring purposes\n",
    "    orig_vector = np.copy(contour_vector)\n",
    "    \n",
    "    # normalize the values in the vector so that the colors can be properly indexed\n",
    "    for i in rois_to_include:\n",
    "        contour_vector[i] = abs(contour_vector[i])\n",
    "        contour_vector[i] *= 125\n",
    "        if (contour_vector[i] >= 255):\n",
    "            contour_vector[i] = 255\n",
    "    \n",
    "    # plotting each cell's activity as subplots and color each plot based on the cell's\n",
    "    # activity value\n",
    "    (fig, axs) = plt.subplots(nrows=6, ncols=5, figsize=(17, 17))\n",
    "    counter = 0;\n",
    "    for i in range(6): # CZ hardcode\n",
    "        for j in range(5):\n",
    "\n",
    "            if orig_vector[counter] > 0:\n",
    "                roi_color = pos_colors[color_idx][int(contour_vector[counter])]\n",
    "            else:\n",
    "                roi_color = neg_colors[color_idx][int(contour_vector[counter])]\n",
    "            \n",
    "            axs[i, j].plot(tvec, trial_avg_data[counter,:], \n",
    "                           color=roi_color)\n",
    "            axs[i, j].set_title(\"roi \" + str(counter), size=20)\n",
    "            counter += 1\n",
    "            axs[i, j].tick_params(axis='both', which='major', labelsize=13)\n",
    "            axs[i, j].tick_params(axis='both', which='minor', labelsize=13)\n",
    "            axs[i, j].set_ylim(min_max)\n",
    "            if i == 0 and j == 0:\n",
    "                axs[i, j].set_xlabel('Time (s)', size=15)\n",
    "                axs[i, j].set_ylabel('Activity (z-scored)', size=15)\n",
    "            # Hide the right and top spines\n",
    "            axs[i, j].spines['right'].set_visible(False)\n",
    "            axs[i, j].spines['top'].set_visible(False)\n",
    "            \n",
    "    fig.tight_layout()\n",
    "    "
   ]
  },
  {
   "cell_type": "code",
   "execution_count": null,
   "metadata": {},
   "outputs": [],
   "source": [
    "plot_contour(data_dict, analysis_win, event_one, 0)"
   ]
  },
  {
   "cell_type": "code",
   "execution_count": null,
   "metadata": {},
   "outputs": [],
   "source": [
    "plot_activity_subplots(data_dict, analysis_win, event_one, 0)"
   ]
  },
  {
   "cell_type": "code",
   "execution_count": null,
   "metadata": {},
   "outputs": [],
   "source": [
    "plot_contour(data_dict, analysis_win, event_two, 1)"
   ]
  },
  {
   "cell_type": "code",
   "execution_count": null,
   "metadata": {},
   "outputs": [],
   "source": [
    "plot_activity_subplots(data_dict, analysis_win, event_two, 1)"
   ]
  },
  {
   "cell_type": "markdown",
   "metadata": {},
   "source": [
    "### Running the last cell more than once will result in errors due to change of data. If you want to run the last cell for the second time, you have to go back to this cell below and start running the cells from here."
   ]
  },
  {
   "cell_type": "code",
   "execution_count": null,
   "metadata": {},
   "outputs": [],
   "source": [
    "def normalize_vector(vector):\n",
    "    \"\"\"\n",
    "    A function that accepts a data vector as parameter and normalize\n",
    "    its values in order to make them meaningful indices for coloring purposes\n",
    "    \"\"\"\n",
    "    for i in rois_to_include:\n",
    "        vector[i] = abs(vector[i])\n",
    "        vector[i] *= 80\n",
    "        if (vector[i] >= 255):\n",
    "            vector[i] = 255"
   ]
  },
  {
   "cell_type": "code",
   "execution_count": null,
   "metadata": {},
   "outputs": [],
   "source": [
    "def add_text(axs, axs_idx, roi_idx, event_name1, event_name2):\n",
    "    \"\"\"\n",
    "    A function that takes a matplotlib axes object, an integer index for color schemes,\n",
    "    two event names and a boolean that indicates whether or not we are handling the\n",
    "    first half of the data as parameters. It adds texts onto the barplot that indicates\n",
    "    each cell's activity value;\n",
    "    \"\"\"\n",
    "\n",
    "    for i, v in zip(roi_idx, data[event_name1][roi_idx]):\n",
    "        axs[axs_idx].text(i - 0.17, v + 0.2, str(round(v, 2)),\n",
    "                          color='black', fontweight='bold', fontsize=12)\n",
    "    for i, v in zip(roi_idx, data[event_name2][roi_idx]):\n",
    "        axs[axs_idx].text(i + 0.22, v + 0.2, str(round(v, 2)),\n",
    "                          color='black', fontweight='bold', fontsize=12)\n"
   ]
  },
  {
   "cell_type": "code",
   "execution_count": null,
   "metadata": {},
   "outputs": [],
   "source": [
    "def plot_bars(axs, axs_idx, roi_idx, event_name1, event_name2, data, error_event_one, error_event_two):\n",
    "    \"\"\"\n",
    "    A function that takes a matplotlib axes object, two event names, a pandas dataframe, and\n",
    "    a boolean that indicates whether or not we are handling the first half of the data\n",
    "    as parameters. It plots each cell's activity values correspond to each event as barplot\n",
    "    and return the two matplotlib container objects as a tuple; Error plots are also added\n",
    "    \"\"\"\n",
    "\n",
    "    barlist1 = axs[axs_idx].bar(roi_idx, data[event_name1][roi_idx], width, yerr=error_event_one[roi_idx])\n",
    "    barlist2 = axs[axs_idx].bar(roi_idx + width, data[event_name2][roi_idx], width, yerr=error_event_two[roi_idx])\n",
    "    return (barlist1, barlist2)"
   ]
  },
  {
   "cell_type": "code",
   "execution_count": null,
   "metadata": {},
   "outputs": [],
   "source": [
    "def plot_deco(axs, axs_idx, roi_idx, event_name1, event_name2):\n",
    "    \"\"\"\n",
    "    A function that takes in a matplotlib axes object, an integer index to the color scheme,\n",
    "    and two event names as parameters and add decorations including x and y labels, titles,\n",
    "    x and y ticks, y-axis range limits\n",
    "    \"\"\"\n",
    "    axs[axs_idx].set_xticks(roi_idx + width/2)\n",
    "    axs[axs_idx].set_xticklabels(data['rois'][roi_idx], fontsize=20)\n",
    "    axs[axs_idx].set_title(\"Event Based Activity Barplot (LEFT: \" + event_name1 +\n",
    "                           \", RIGHT: \" + event_name2 + \")\", fontsize=25)\n",
    "    axs[axs_idx].set_xlabel(\"ROIS\", fontsize=20)\n",
    "    axs[axs_idx].set_ylabel(\"Activity\", fontsize=20)\n",
    "    #axs[axs_idx].set_ylim([-1.5,3.5])"
   ]
  },
  {
   "cell_type": "code",
   "execution_count": null,
   "metadata": {},
   "outputs": [],
   "source": [
    "def split_given_size(data, size):\n",
    "    return np.split(data, np.arange(size,len(data),size))"
   ]
  },
  {
   "cell_type": "code",
   "execution_count": null,
   "metadata": {},
   "outputs": [],
   "source": [
    "def add_colors(axs, bars1, color_idx1, color_idx2, data_event1,\n",
    "               data_event2, vector1, vector2):\n",
    "    \"\"\"\n",
    "    A function that takes in a matplotlib axes object, two tuples of matplotlib containers,\n",
    "    two color indices to the color schemes, two event names, two data vectors and a boolean\n",
    "    that indicates whether or not we are handling the first half of the data as parameters.\n",
    "    It adds colors to each bar in the barplot based on the cell's activity value corresponds to\n",
    "    the specified events using the color schemes defined above\n",
    "    \"\"\"\n",
    "    \n",
    "    for i in range(len(bars1[0])):\n",
    "        if data_event1[i] >= 0:\n",
    "            bars1[0][i].set_color(pos_colors[color_idx1][int(vector1[i])])\n",
    "        else:\n",
    "            bars1[0][i].set_color(neg_colors[color_idx1][int(vector1[i])])\n",
    "        if data_event2[i] >= 0:\n",
    "            bars1[1][i].set_color(pos_colors[color_idx2][int(vector2[i])])\n",
    "        else:\n",
    "            bars1[1][i].set_color(neg_colors[color_idx2][int(vector2[i])])\n",
    "   "
   ]
  },
  {
   "cell_type": "code",
   "execution_count": null,
   "metadata": {},
   "outputs": [],
   "source": [
    "# Getting the data vector corresponds to the specified event from the dictionary\n",
    "contour_vector_event_one = np.mean(data_dict[event_one]\n",
    "                                        ['zdata']\n",
    "                                        [:,:,utils.get_tvec_sample(tvec, analysis_win[0]):utils.get_tvec_sample(tvec, analysis_win[-1])], \n",
    "                                        axis=(0,2))\n",
    "contour_vector_event_two = np.mean(data_dict[event_two]\n",
    "                                          ['zdata']\n",
    "                                          [:,:,utils.get_tvec_sample(tvec, analysis_win[0]):utils.get_tvec_sample(tvec, analysis_win[-1])], \n",
    "                                          axis=(0,2))\n",
    "\n",
    "# calculate the standard error of the mean for these vectors\n",
    "# for the purpose of plotting error plots\n",
    "error_event_one = np.std(np.mean(data_dict[event_one]['zdata']\n",
    "                                        [:,:,utils.get_tvec_sample(tvec, analysis_win[0]):utils.get_tvec_sample(tvec, analysis_win[-1])], \n",
    "                                        axis=2), axis=0) / math.sqrt(data_dict[event_one]['zdata'].shape[0])\n",
    "error_event_two = np.std(np.mean(data_dict[event_two]['zdata']\n",
    "                                        [:,:,utils.get_tvec_sample(tvec, analysis_win[0]):utils.get_tvec_sample(tvec, analysis_win[-1])], \n",
    "                                        axis=2), axis=0) / math.sqrt(data_dict[event_two]['zdata'].shape[0])\n",
    "\n",
    "# create a dictionary that contains the necessary data for plottint\n",
    "data = {}\n",
    "data['rois'] = [('roi' + str(iroi)) for iroi in rois_to_include]\n",
    "data[event_one] = list(contour_vector_event_one)\n",
    "data[event_two] = list(contour_vector_event_two)\n",
    "\n",
    "# normalize the data vectors for coloring purposes\n",
    "normalize_vector(contour_vector_event_one)\n",
    "normalize_vector(contour_vector_event_two)\n",
    "\n",
    "# turn the dictionary into a pandas dataframe\n",
    "data = pd.DataFrame(data=data)"
   ]
  },
  {
   "cell_type": "code",
   "execution_count": null,
   "metadata": {},
   "outputs": [],
   "source": [
    "num_rois_per_subplot = 20\n",
    "width = 0.4\n",
    "\n",
    "num_subplots = int(np.ceil(num_rois_to_include/float(num_rois_per_subplot)))\n",
    "subplot_rois = split_given_size(np.arange(num_rois_to_include),num_rois_per_subplot)"
   ]
  },
  {
   "cell_type": "code",
   "execution_count": null,
   "metadata": {
    "scrolled": false
   },
   "outputs": [],
   "source": [
    "plt.rc('ytick',labelsize=25)\n",
    "\n",
    "# creating two subplots, each containing plots for half of the data\n",
    "(fig, axs) = plt.subplots(2, figsize=(20, 15))\n",
    "\n",
    "# plot the barplot for first half of the data and add text\n",
    "bars1 = plot_bars(axs, 0, subplot_rois[0], event_one, event_two, data, error_event_one, error_event_two)\n",
    "add_text(axs, 0, subplot_rois[0], event_one, event_two)\n",
    "# add colors to each bar in the barplot\n",
    "add_colors(axs, bars1, 0, 1, data[event_one][subplot_rois[0]].values, data[event_one][subplot_rois[0]].values,\n",
    "           contour_vector_event_one[subplot_rois[0]], contour_vector_event_two[subplot_rois[0]])\n",
    "# decorate the barplot\n",
    "plot_deco(axs, 0, subplot_rois[0], event_one, event_two);\n",
    "# Hide the right and top spines\n",
    "axs[0].spines['right'].set_visible(False)\n",
    "axs[0].spines['top'].set_visible(False)\n",
    "\n",
    "\n",
    "# plot the barplot for first half of the data and add text\n",
    "bars2 = plot_bars(axs, 1, subplot_rois[1], event_one, event_two, data, error_event_one, error_event_two)\n",
    "add_text(axs, 1, subplot_rois[1], event_one, event_two)\n",
    "# add colors to each bar in the barplot\n",
    "add_colors(axs, bars2, 0, 1, data[event_one][subplot_rois[1]].values, data[event_two][subplot_rois[1]].values,\n",
    "           contour_vector_event_one[subplot_rois[1]], contour_vector_event_two[subplot_rois[1]])\n",
    "# decorate the barplot\n",
    "plot_deco(axs, 1, subplot_rois[1], event_one, event_two);\n",
    "# Hide the right and top spines\n",
    "axs[1].spines['right'].set_visible(False)\n",
    "axs[1].spines['top'].set_visible(False)\n",
    "\n",
    "fig.tight_layout()"
   ]
  },
  {
   "cell_type": "code",
   "execution_count": null,
   "metadata": {},
   "outputs": [],
   "source": []
  }
 ],
 "metadata": {
  "kernelspec": {
   "display_name": "Python 3 (ipykernel)",
   "language": "python",
   "name": "python3"
  },
  "language_info": {
   "codemirror_mode": {
    "name": "ipython",
    "version": 3
   },
   "file_extension": ".py",
   "mimetype": "text/x-python",
   "name": "python",
   "nbconvert_exporter": "python",
   "pygments_lexer": "ipython3",
   "version": "3.7.12"
  }
 },
 "nbformat": 4,
 "nbformat_minor": 2
}
