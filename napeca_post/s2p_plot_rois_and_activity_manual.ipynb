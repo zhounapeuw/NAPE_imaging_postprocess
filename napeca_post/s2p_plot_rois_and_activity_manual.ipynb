{
 "cells": [
  {
   "cell_type": "markdown",
   "id": "24d34e66",
   "metadata": {},
   "source": [
    "# Plot ROI Contours and Corresponding Whole-Session Activity Traces\n",
    "\n",
    "What does this script do\n",
    "------------------------------------\n",
    "\n",
    "Plots the mean motion-corrected projection image with select ROI contours displayed. Also plots each ROI's corresponding neuropil-corrected dF/F activity trace across the whole session.\n",
    "\n",
    "Requires suite2p to have run through the loaded dataset. I have a sample dataset (resides in the sample_data\\VJ_OFCVTA_7_260_D6 folder) that can be readily run through this script for your reference of file/folder structure and expected output.\n",
    "\n",
    "How to run this code\n",
    "------------------------------------\n",
    "\n",
    "In this jupyter notebook, First find the code block with the comment header called USER-DEFINED VARIABLES. Edit the variables according to your data and output preferences. Then just run all cells in order (shift + enter; or in the dropdown menu: Kernel->Resart & Run All).\n",
    "\n",
    "Parameters\n",
    "------------------------------------\n",
    "\n",
    "__fdir__ : string \n",
    "\n",
    "    Root file directory containing the suite2p folder. IMPORTANT Note: leave off the last backslash, and include the letter r in front of string (treats the contents as a raw string). For example: r'C:\\Users\\my_user\\analyze_sessions'\n",
    "\n",
    "__tseries_start_end__ : list with two entries or None\n",
    "\n",
    "    If set to `None`, the whole session's duration will be plotted for the time-series\n",
    "    If set to a list with two ints/floats (eg. `[a,b]`), the time-series time window will be from time a to time b. For example, if `tseries_start_end` was set to `[0, 10]`, the time-series plot x limits will be 0 to 10 seconds.\n",
    "\n",
    "__rois_to_plot__ can be one of the following: \n",
    "1) A list of select rois \\\n",
    "2) An integer (n) indicating n first rois to plot \\\n",
    "3) None which plots all valid ROIs "
   ]
  },
  {
   "cell_type": "code",
   "execution_count": null,
   "id": "bbd0fcd5",
   "metadata": {},
   "outputs": [],
   "source": [
    "import s2p_plot_rois_activity_funcs\n",
    "import os\n",
    "import utils\n",
    "import matplotlib.pyplot as plt\n",
    "\n",
    "import matplotlib\n",
    "#important for text to be detected when importing saved figures into illustrator\n",
    "matplotlib.rcParams['pdf.fonttype']=42\n",
    "matplotlib.rcParams['ps.fonttype']=42\n",
    "plt.rcParams[\"font.family\"] = \"Arial\""
   ]
  },
  {
   "cell_type": "code",
   "execution_count": null,
   "id": "408d43ec",
   "metadata": {},
   "outputs": [],
   "source": [
    "\"\"\"\n",
    "USER-DEFINED VARIABLES\n",
    "\"\"\"\n",
    "\n",
    "fdir = os.path.abspath('./sample_data/VJ_OFCVTA_7_260_D6_snippit') # for an explicit path, eg. r'C:\\2pData\\Vijay data\\VJ_OFCVTA_7_D8_trained'\n",
    "tseries_start_end = [0, 10] # setting None will plot the whole session\n",
    "show_labels = True\n",
    "color_all_rois = True\n",
    "\"\"\"\n",
    "define number of ROIs to visualize\n",
    "\n",
    "can be: \n",
    "1) a list of select rois, \n",
    "2) an integer (n) indicating n first rois to plot, or \n",
    "3) None which plots all valid ROIs\n",
    "\"\"\" \n",
    "rois_to_plot = None"
   ]
  },
  {
   "cell_type": "code",
   "execution_count": null,
   "id": "9286d72b",
   "metadata": {},
   "outputs": [],
   "source": [
    "if __name__ == '__main__':\n",
    "    output_fig_dir = os.path.join(fdir, 's2p_analysis')\n",
    "    utils.check_exist_dir(output_fig_dir)"
   ]
  },
  {
   "cell_type": "code",
   "execution_count": null,
   "id": "9884bf52",
   "metadata": {
    "scrolled": false
   },
   "outputs": [],
   "source": [
    "path_dict = s2p_plot_rois_activity_funcs.s2p_dir(fdir)\n",
    "path_dict = s2p_plot_rois_activity_funcs.define_paths_roi_plots(path_dict, tseries_start_end, rois_to_plot, output_fig_dir)\n",
    "s2p_data_dict = s2p_plot_rois_activity_funcs.load_s2p_data_roi_plots(path_dict)\n",
    "plot_vars = s2p_plot_rois_activity_funcs.prep_plotting_rois(s2p_data_dict, path_dict, color_all_rois)\n",
    "s2p_plot_rois_activity_funcs.masks_init(plot_vars, s2p_data_dict)\n",
    "s2p_plot_rois_activity_funcs.contour_plot(s2p_data_dict, path_dict, plot_vars, show_labels_=show_labels, cmap_scale_ratio=3)\n",
    "s2p_plot_rois_activity_funcs.time_series_plot(s2p_data_dict, path_dict, plot_vars)\n",
    "# s2p_plot_rois_activity_funcs.heatmap_plot(s2p_data_dict, path_dict, plot_vars)"
   ]
  },
  {
   "cell_type": "code",
   "execution_count": null,
   "id": "4e177085",
   "metadata": {},
   "outputs": [],
   "source": []
  }
 ],
 "metadata": {
  "interpreter": {
   "hash": "29f2007cb673592858fd6523f43b39cf3f3163925deee452a0b41f2064912f2a"
  },
  "kernelspec": {
   "display_name": "Python 3 (ipykernel)",
   "language": "python",
   "name": "python3"
  },
  "language_info": {
   "codemirror_mode": {
    "name": "ipython",
    "version": 3
   },
   "file_extension": ".py",
   "mimetype": "text/x-python",
   "name": "python",
   "nbconvert_exporter": "python",
   "pygments_lexer": "ipython3",
   "version": "3.7.12"
  },
  "varInspector": {
   "cols": {
    "lenName": 16,
    "lenType": 16,
    "lenVar": 40
   },
   "kernels_config": {
    "python": {
     "delete_cmd_postfix": "",
     "delete_cmd_prefix": "del ",
     "library": "var_list.py",
     "varRefreshCmd": "print(var_dic_list())"
    },
    "r": {
     "delete_cmd_postfix": ") ",
     "delete_cmd_prefix": "rm(",
     "library": "var_list.r",
     "varRefreshCmd": "cat(var_dic_list()) "
    }
   },
   "types_to_exclude": [
    "module",
    "function",
    "builtin_function_or_method",
    "instance",
    "_Feature"
   ],
   "window_display": false
  }
 },
 "nbformat": 4,
 "nbformat_minor": 5
}