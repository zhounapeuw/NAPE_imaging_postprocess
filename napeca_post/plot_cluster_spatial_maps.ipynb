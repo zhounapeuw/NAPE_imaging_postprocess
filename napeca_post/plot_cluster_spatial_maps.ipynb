{
 "cells": [
  {
   "cell_type": "markdown",
   "metadata": {},
   "source": [
    "# Plot ROI Contours and color based on cluster grouping\n",
    "\n",
    "What does this script do\n",
    "------------------------------------\n",
    "Takes in ROI masks, projection image, and clustering results to create a figure that visualizes ROI contours on the projection image. ROIs are colored based on which cluster they belong to\n",
    "\n",
    "\n",
    "How to run this code\n",
    "------------------------------------\n",
    "Set user-defined variables\n",
    "\n",
    "\n",
    "Input Requirements\n",
    "------------------------------------\n",
    "Requires the clustering results output from: event_related_clustering.ipynb \n",
    "\n",
    "Parameters\n",
    "------------------------------------\n",
    "__fdir__ : string \n",
    "\n",
    "    Root file directory containing the suite2p folder. IMPORTANT Note: leave off the last backslash, and include the letter r in front of string (treats the contents as a raw string). For example: r'C:\\Users\\my_user\\analyze_sessions'\n",
    "\n",
    "__preprocess_mode__ : string \n",
    "\n",
    "    Define the method that you used to preprocess the data. 's2p' for suite2p data (suite2p folder must be in fdir root folder) or 'sima' or 'napeca'\n",
    "\n",
    "__proj_type__ : string \n",
    "\n",
    "    Select 'mean', 'std', or 'max' for type of projection image to plot contours on"
   ]
  },
  {
   "cell_type": "code",
   "execution_count": null,
   "metadata": {},
   "outputs": [],
   "source": [
    "import os\n",
    "import numpy as np\n",
    "import h5py\n",
    "import pandas as pd\n",
    "import pickle\n",
    "import numpy as np\n",
    "from PIL import Image\n",
    "\n",
    "import matplotlib.pyplot as plt\n",
    "import matplotlib.patches as mpatches\n",
    "plt.rcParams['text.usetex'] = False\n",
    "plt.rcParams['text.latex.unicode'] = False\n",
    "import matplotlib\n",
    "# important for text to be detecting when importing saved figures into illustrator\n",
    "matplotlib.rcParams['pdf.fonttype'] = 42\n",
    "matplotlib.rcParams['ps.fonttype'] = 42\n",
    "plt.rcParams[\"font.family\"] = \"Arial\"\n",
    "\n",
    "import s2p_plot_rois_activity_funcs\n",
    "import utils"
   ]
  },
  {
   "cell_type": "code",
   "execution_count": null,
   "metadata": {},
   "outputs": [],
   "source": [
    "# USER DEFINED VARIABLES\n",
    "fdir = r'D:\\bruker_data\\vj_ofc_imageactivate_02_200\\vj_ofc_imageactivate_02_200_006' # NOTE: the root folder name must match the basename of the _sima_masks.npy file\n",
    "\n",
    "preprocess_mode = 's2p' # 's2p' or 'napeca'\n",
    "proj_type = 'mean' # can be 'std', 'mean', 'max'\n",
    "\"\"\"\n",
    "define number of ROIs to visualize\n",
    "\n",
    "can be: \n",
    "1) a list of select rois, \n",
    "2) an integer (n) indicating n first rois to plot, or \n",
    "3) None or 'all' which plots all valid ROIs\n",
    "\"\"\" \n",
    "rois_to_plot = None # np.arange(5) #[0,2,3,6] "
   ]
  },
  {
   "cell_type": "code",
   "execution_count": null,
   "metadata": {},
   "outputs": [],
   "source": [
    "# set paths\n",
    "fname = os.path.split(fdir)[-1]\n",
    "if 's2p' in preprocess_mode:\n",
    "    path_dict = s2p_plot_rois_activity_funcs.s2p_dir(fdir)\n",
    "    path_dict = s2p_plot_rois_activity_funcs.define_paths_roi_plots(path_dict, None, None, None)\n",
    "else:\n",
    "    proj_img_path = os.path.join(fdir, f'{fname}_output_images\\{proj_type}_img.tif')\n",
    "    roi_mask_path = os.path.join(fdir, f'{fname}_sima_masks.npy')\n",
    "    sima_h5_path = os.path.join(fdir, f'{fname}_sima_mc.h5')\n",
    "\n",
    "cluster_path = os.path.join(fdir, 'event_rel_analysis', 'cluster_labels.npy')\n",
    "\n",
    "fig_save_dir = os.path.join(fdir, 'figs')\n",
    "if not os.path.exists(fig_save_dir):\n",
    "    os.mkdir(fig_save_dir)\n"
   ]
  },
  {
   "cell_type": "code",
   "execution_count": null,
   "metadata": {},
   "outputs": [],
   "source": [
    "# load projection image\n",
    "proj_manual = {}\n",
    "if 's2p' in preprocess_mode:\n",
    "    s2p_data_dict = s2p_plot_rois_activity_funcs.load_s2p_data_roi_plots(path_dict)\n",
    "    plot_vars = s2p_plot_rois_activity_funcs.plotting_rois(s2p_data_dict, path_dict)\n",
    "    proj_manual[f'{proj_type}_img'] = s2p_data_dict['ops']['meanImg']\n",
    "elif os.path.exists(proj_img_path):\n",
    "    proj_manual[f'{proj_type}_img'] = np.array(Image.open(proj_img_path))\n",
    "\n",
    "elif os.path.exists(sima_h5_path):\n",
    "    # load video data\n",
    "    # open h5 to read, find data key, grab data, then close\n",
    "    h5 = h5py.File(sima_h5_path,'r')\n",
    "    sima_data = np.squeeze(np.array( h5[list(h5.keys())[0]] )).astype('int16') # np.array loads all data into memory\n",
    "    h5.close()\n",
    "\n",
    "    proj_manual = {'mean_img': np.mean(sima_data, axis = 0), \n",
    "                   'max_img': np.max(sima_data, axis = 0), \n",
    "                   'std_img': np.std(sima_data, axis = 0) }"
   ]
  },
  {
   "cell_type": "code",
   "execution_count": null,
   "metadata": {},
   "outputs": [],
   "source": [
    "# create/define ROI masks\n",
    "if 's2p' in preprocess_mode:\n",
    "    s2p_plot_rois_activity_funcs.masks_init(plot_vars, s2p_data_dict) # generates masks \n",
    "    roi_masks = plot_vars['s2p_masks']\n",
    "else:\n",
    "    # grab ROI masks from sima (these are probably manually drawn ROIs from imagej)\n",
    "    fname_roi_masks = f'{fname}_sima_masks.npy'\n",
    "    roi_masks = np.load(roi_mask_path)\n",
    "\n",
    "if isinstance(rois_to_plot, int): # if int is supplied, first n user-curated rois included in analysis\n",
    "    rois_to_plot = np.arange(rois_to_plot)\n",
    "elif rois_to_plot in [None, 'all']: # if None is supplied, all user-curated rois included in analysis\n",
    "    rois_to_plot = np.arange(roi_masks.shape[0])\n",
    "\n",
    "num_rois = len(rois_to_plot)"
   ]
  },
  {
   "cell_type": "code",
   "execution_count": null,
   "metadata": {},
   "outputs": [],
   "source": [
    "# load cluster data\n",
    "cluster_ids = np.load(cluster_path)\n",
    "unique_cluster_ids = np.unique(cluster_ids)\n",
    "num_clusters = len(unique_cluster_ids)\n",
    "\n",
    "# define number of ROIs to visualize and make colormap for contours\n",
    "colors_roi = plt.cm.viridis(np.linspace(0,1,num_clusters))"
   ]
  },
  {
   "cell_type": "code",
   "execution_count": null,
   "metadata": {
    "scrolled": true
   },
   "outputs": [],
   "source": [
    "# make list of roi centroids for identifying where to plot each ROI's label on the projection/contour image\n",
    "roi_label_loc_manual = []\n",
    "for idx, iROI in enumerate(rois_to_plot):\n",
    "    \n",
    "    # make binary map of ROI pixels\n",
    "    ypix_roi, xpix_roi = np.where(roi_masks[iROI,:,:] == 1)\n",
    "    \n",
    "    if ypix_roi.size == 0:\n",
    "        roi_label_loc_manual.append( [0, 0] )\n",
    "    else:\n",
    "        roi_label_loc_manual.append( [np.min(ypix_roi), np.min(xpix_roi)] )\n"
   ]
  },
  {
   "cell_type": "code",
   "execution_count": null,
   "metadata": {},
   "outputs": [],
   "source": [
    "# plot contours and cell numbers on projection image\n",
    "clims = [ np.min(proj_manual[f'{proj_type}_img'])*1.2, \n",
    "        np.max(proj_manual[f'{proj_type}_img'])*0.4 ] # change the hardcoded numbers to adjust color limits\n",
    "\n",
    "fig, ax = plt.subplots(1, 1, figsize = (10,10))\n",
    "im = ax.imshow(proj_manual[f'{proj_type}_img'], cmap = 'gray', vmin = clims[0]*1, vmax = clims[1]*0.8)\n",
    "ax.axis('off')\n",
    "\n",
    "for iROI, (roi_id, cluster_id) in enumerate(zip(rois_to_plot, cluster_ids)): \n",
    "    ax.contour(roi_masks[roi_id,:,:], colors=[colors_roi[cluster_id]])\n",
    "    ax.text(roi_label_loc_manual[iROI][1]-2, roi_label_loc_manual[iROI][0]-2,  str(roi_id), fontsize=18, weight='bold', color = colors_roi[cluster_id]);\n",
    "\n",
    "plt.legend(handles=[mpatches.Patch(color=colors_roi[x], label=f'Cluster {str(x)}') for x in unique_cluster_ids], fontsize=12)\n",
    "plt.savefig(os.path.join(fig_save_dir, 'cluster_contour_map.png'))\n",
    "plt.savefig(os.path.join(fig_save_dir, 'cluster_contour_map.pdf'))"
   ]
  },
  {
   "cell_type": "code",
   "execution_count": null,
   "metadata": {},
   "outputs": [],
   "source": []
  }
 ],
 "metadata": {
  "kernelspec": {
   "display_name": "Python 3",
   "language": "python",
   "name": "python3"
  },
  "language_info": {
   "codemirror_mode": {
    "name": "ipython",
    "version": 3
   },
   "file_extension": ".py",
   "mimetype": "text/x-python",
   "name": "python",
   "nbconvert_exporter": "python",
   "pygments_lexer": "ipython3",
   "version": "3.7.4"
  }
 },
 "nbformat": 4,
 "nbformat_minor": 4
}
