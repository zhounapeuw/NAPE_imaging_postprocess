{
 "cells": [
  {
   "cell_type": "markdown",
   "id": "c25b5463",
   "metadata": {},
   "source": [
    "# Suite2p Activity Trace and Behavioral Data Converter\n",
    "\n",
    "\n",
    "## What does this script do:\n",
    "\n",
    "Section 1) Converts Suite2p extracted ROI traces and neuropil data output into a numpy or csv file ready for downstream event-related analysis\n",
    "\n",
    "Section 2) Create a pickle file containing a dictionary where each key represents a condition/event-type in the session and the corresponding values are lists containing time stamps of each event in samples\n",
    "\n",
    "How to run this code\n",
    "------------------------------------\n",
    "\n",
    "In this jupyter notebook, First find the code block with the comment header called USER-DEFINED VARIABLES. Edit the variables according to your data and output preferences. Then just run all cells in order (shift + enter; or in the dropdown menu: Kernel->Resart & Run All).\n",
    "\n",
    "User-Defined Parameters \n",
    "----------\n",
    "\n",
    "fdir : string \n",
    "\n",
    "    Root file directory containing the data files. IMPORTANT Note: leave off the last backslash, and include the letter r in front of string (treats the contents as a raw string). For example: r'C:\\Users\\my_user\\analyze_sessions'\n",
    "\n",
    "fname : string\n",
    "\n",
    "    Session name; by default this is the name of the parent folder that the data resides in, but can be changed by user to be any string. This fname variable is mainly used to name the saved output files."
   ]
  },
  {
   "cell_type": "code",
   "execution_count": null,
   "id": "89db74e3",
   "metadata": {},
   "outputs": [],
   "source": [
    "import numpy as np\n",
    "import pickle as pkl\n",
    "import os\n",
    "import pandas as pd\n",
    "import s2p_con_func"
   ]
  },
  {
   "cell_type": "code",
   "execution_count": null,
   "id": "0ad48cdf",
   "metadata": {},
   "outputs": [],
   "source": [
    "\"\"\"\n",
    "USER DEFINE VARIABLES\n",
    "\n",
    "fdir: string\n",
    "    Directory where the root raw data resides in (not the suite2p output folder)\n",
    "    for your own data, please refer to guidance on formatting in above markdown documentation\n",
    "    replace the contents inside the apostrophes with the path to your data; make sure the r comes before the apostrophe\n",
    "\n",
    "fname: string\n",
    "    Root name of the raw data (without file extensions). Will ultimately dictate the base name of the saved files\n",
    "    If left alone, it will use the parent folder name\n",
    "\"\"\"\n",
    "\n",
    "fdir = r'D:\\olympus_data\\Vijay data\\VJ_OFCVTA_7_D8_trained'\n",
    "fname = os.path.split(fdir)[-1]\n",
    "\n"
   ]
  },
  {
   "cell_type": "code",
   "execution_count": null,
   "id": "5756edba",
   "metadata": {},
   "outputs": [],
   "source": [
    "if __name__==\"__main__\":\n",
    "    s2p_con_func.csv_npy_save(fdir, fname)"
   ]
  },
  {
   "cell_type": "code",
   "execution_count": null,
   "id": "cee49fe3",
   "metadata": {},
   "outputs": [],
   "source": []
  }
 ],
 "metadata": {
  "kernelspec": {
   "display_name": "Python 3 (ipykernel)",
   "language": "python",
   "name": "python3"
  },
  "language_info": {
   "codemirror_mode": {
    "name": "ipython",
    "version": 3
   },
   "file_extension": ".py",
   "mimetype": "text/x-python",
   "name": "python",
   "nbconvert_exporter": "python",
   "pygments_lexer": "ipython3",
   "version": "3.7.12"
  },
  "vscode": {
   "interpreter": {
    "hash": "9509d1a60cbe60875af8a961f5cf0302c80834122cf1ffc3d0db62a7fe87dbd9"
   }
  }
 },
 "nbformat": 4,
 "nbformat_minor": 5
}
